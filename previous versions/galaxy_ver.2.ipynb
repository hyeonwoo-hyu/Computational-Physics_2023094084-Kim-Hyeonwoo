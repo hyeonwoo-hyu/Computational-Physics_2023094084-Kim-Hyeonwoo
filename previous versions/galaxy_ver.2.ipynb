{
 "cells": [
  {
   "cell_type": "code",
   "execution_count": 1,
   "id": "be23fade",
   "metadata": {},
   "outputs": [],
   "source": [
    "import numpy as np\n",
    "import pandas as pd\n",
    "import os\n",
    "from tqdm import tqdm\n",
    "from tensorflow.keras.preprocessing.image import ImageDataGenerator\n",
    "from tensorflow.keras.utils import to_categorical\n",
    "from tensorflow.keras.models import Sequential\n",
    "from tensorflow.keras.layers import Conv2D, MaxPooling2D, Flatten, Dense, Dropout\n",
    "from sklearn.model_selection import train_test_split\n",
    "from tensorflow.keras.preprocessing.image import load_img, img_to_array\n",
    "import matplotlib.pyplot as plt"
   ]
  },
  {
   "cell_type": "code",
   "execution_count": 2,
   "id": "cdb6777f",
   "metadata": {},
   "outputs": [],
   "source": [
    "# CSV 파일 로드\n",
    "data_path = '/home/kimhw/galaxy_classification/data.csv'\n",
    "image_dir = '/home/kimhw/galaxy_classification/images'\n",
    "\n",
    "data = pd.read_csv(data_path)\n",
    "\n",
    "# 클래스 매핑\n",
    "class_mapping = {'S': 0, 'E': 1, 'SB': 2, 'EDGE': 3, 'STAR': 4}\n",
    "\n",
    "# 데이터셋을 학습용과 검증용으로 분리\n",
    "train_data, val_data = train_test_split(data, test_size=0.2, random_state=42)\n"
   ]
  },
  {
   "cell_type": "code",
   "execution_count": 3,
   "id": "d7ccc13a",
   "metadata": {},
   "outputs": [],
   "source": [
    "# 데이터 제너레이터 생성 함수\n",
    "def image_generator(data, batch_size, image_dir, class_mapping, augment=False):\n",
    "    datagen = ImageDataGenerator(\n",
    "        rotation_range=20,\n",
    "        width_shift_range=0.2,\n",
    "        height_shift_range=0.2,\n",
    "        shear_range=0.2,\n",
    "        zoom_range=0.2,\n",
    "        horizontal_flip=True,\n",
    "        fill_mode='nearest'\n",
    "    ) if augment else ImageDataGenerator()\n",
    "\n",
    "    num_samples = data.shape[0]\n",
    "    while True:\n",
    "        for offset in range(0, num_samples, batch_size):\n",
    "            batch_samples = data.iloc[offset:offset+batch_size]\n",
    "            \n",
    "            images = []\n",
    "            labels = []\n",
    "            for _, row in batch_samples.iterrows():\n",
    "                image_id = row['image_id']\n",
    "                label = row['class']\n",
    "                \n",
    "                # 이미지 파일 경로\n",
    "                image_path = os.path.join(image_dir, f\"{image_id}.jpg\")\n",
    "                \n",
    "                # 이미지 로드 및 전처리\n",
    "                if os.path.exists(image_path):\n",
    "                    img = load_img(image_path, target_size=(128, 128))\n",
    "                    img = img_to_array(img) / 255.0\n",
    "                    images.append(img)\n",
    "                    labels.append(class_mapping[label])\n",
    "            \n",
    "            X = np.array(images)\n",
    "            y = to_categorical(np.array(labels), num_classes=len(class_mapping))\n",
    "            \n",
    "            if augment:\n",
    "                yield next(datagen.flow(X, y, batch_size=batch_size))\n",
    "            else:\n",
    "                yield X, y\n",
    "\n",
    "# 배치 사이즈 설정\n",
    "batch_size = 256\n",
    "\n",
    "train_generator = image_generator(train_data, batch_size, image_dir, class_mapping, augment=True)\n",
    "val_generator = image_generator(val_data, batch_size, image_dir, class_mapping, augment=False)"
   ]
  },
  {
   "cell_type": "code",
   "execution_count": 4,
   "id": "f05402a9",
   "metadata": {},
   "outputs": [
    {
     "name": "stdout",
     "output_type": "stream",
     "text": [
      "_________________________________________________________________\n",
      "Layer (type)                 Output Shape              Param #   \n",
      "=================================================================\n",
      "conv2d (Conv2D)              (None, 126, 126, 32)      896       \n",
      "_________________________________________________________________\n",
      "max_pooling2d (MaxPooling2D) (None, 63, 63, 32)        0         \n",
      "_________________________________________________________________\n",
      "conv2d_1 (Conv2D)            (None, 61, 61, 64)        18496     \n",
      "_________________________________________________________________\n",
      "max_pooling2d_1 (MaxPooling2 (None, 30, 30, 64)        0         \n",
      "_________________________________________________________________\n",
      "conv2d_2 (Conv2D)            (None, 28, 28, 128)       73856     \n",
      "_________________________________________________________________\n",
      "max_pooling2d_2 (MaxPooling2 (None, 14, 14, 128)       0         \n",
      "_________________________________________________________________\n",
      "flatten (Flatten)            (None, 25088)             0         \n",
      "_________________________________________________________________\n",
      "dense (Dense)                (None, 128)               3211392   \n",
      "_________________________________________________________________\n",
      "dropout (Dropout)            (None, 128)               0         \n",
      "_________________________________________________________________\n",
      "dense_1 (Dense)              (None, 5)                 645       \n",
      "=================================================================\n",
      "Total params: 3,305,285\n",
      "Trainable params: 3,305,285\n",
      "Non-trainable params: 0\n",
      "_________________________________________________________________\n"
     ]
    }
   ],
   "source": [
    "# CNN 모델 정의\n",
    "model = Sequential([\n",
    "    Conv2D(32, (3, 3), activation='relu', input_shape=(128, 128, 3)),\n",
    "    MaxPooling2D((2, 2)),\n",
    "    Conv2D(64, (3, 3), activation='relu'),\n",
    "    MaxPooling2D((2, 2)),\n",
    "    Conv2D(128, (3, 3), activation='relu'),\n",
    "    MaxPooling2D((2, 2)),\n",
    "    Flatten(),\n",
    "    Dense(128, activation='relu'),\n",
    "    Dropout(0.5),\n",
    "    Dense(len(class_mapping), activation='softmax')\n",
    "])\n",
    "\n",
    "model.compile(optimizer='adam', loss='categorical_crossentropy', metrics=['accuracy'])\n",
    "model.summary()"
   ]
  },
  {
   "cell_type": "code",
   "execution_count": null,
   "id": "03f7cf14",
   "metadata": {},
   "outputs": [
    {
     "name": "stdout",
     "output_type": "stream",
     "text": [
      "Epoch 1/20\n",
      " 19/749 [..............................] - ETA: 1:22:50 - loss: 1.3567 - acc: 0.3545"
     ]
    }
   ],
   "source": [
    "# 모델 훈련\n",
    "history = model.fit_generator(\n",
    "    train_generator,\n",
    "    steps_per_epoch=len(train_data) // batch_size,\n",
    "    epochs=20,\n",
    "    validation_data=val_generator,\n",
    "    validation_steps=len(val_data) // batch_size\n",
    ")\n"
   ]
  },
  {
   "cell_type": "code",
   "execution_count": null,
   "id": "26b36da3",
   "metadata": {},
   "outputs": [],
   "source": [
    "# 모델 저장\n",
    "model.save('/home/kimhw/galaxy_classification/galaxy_classifier.h5')\n"
   ]
  },
  {
   "cell_type": "code",
   "execution_count": null,
   "id": "db61b7ab",
   "metadata": {},
   "outputs": [],
   "source": [
    "\n",
    "# 훈련 및 검증 정확도와 손실 그래프 그리기\n",
    "acc = history.history['accuracy']\n",
    "val_acc = history.history['val_accuracy']\n",
    "loss = history.history['loss']\n",
    "val_loss = history.history['val_loss']\n",
    "\n",
    "epochs = range(len(acc))\n",
    "\n",
    "plt.plot(epochs, acc, 'r', label='Training accuracy')\n",
    "plt.plot(epochs, val_acc, 'b', label='Validation accuracy')\n",
    "plt.title('Training and validation accuracy')\n",
    "plt.legend()\n",
    "\n",
    "plt.figure()\n",
    "\n",
    "plt.plot(epochs, loss, 'r', label='Training loss')\n",
    "plt.plot(epochs, val_loss, 'b', label='Validation loss')\n",
    "plt.title('Training and validation loss')\n",
    "plt.legend()\n",
    "\n",
    "plt.show()\n"
   ]
  }
 ],
 "metadata": {
  "kernelspec": {
   "display_name": "Python 3 (ipykernel)",
   "language": "python",
   "name": "python3"
  },
  "language_info": {
   "codemirror_mode": {
    "name": "ipython",
    "version": 3
   },
   "file_extension": ".py",
   "mimetype": "text/x-python",
   "name": "python",
   "nbconvert_exporter": "python",
   "pygments_lexer": "ipython3",
   "version": "3.7.1"
  }
 },
 "nbformat": 4,
 "nbformat_minor": 5
}
